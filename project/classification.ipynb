{
 "cells": [
  {
   "cell_type": "markdown",
   "metadata": {},
   "source": [
    "# [IAPR][iapr]: Project\n",
    "\n",
    "\n",
    "**Group ID:** xx\n",
    "\n",
    "**Author 1 (sciper):** Student Name 1 (xxxxx)  \n",
    "**Author 2 (sciper):** Student Name 2 (xxxxx)   \n",
    "**Author 3 (sciper):** Student Name 3 (xxxxx)   \n",
    "\n",
    "**Release date:** 07.05.2021  \n",
    "**Due date:** 03.06.2021 (23h59)\n",
    "\n",
    "\n",
    "## Important notes\n",
    "\n",
    "The lab assignments are designed to teach practical implementation of the topics presented during class as well as preparation for the final project, which is a practical project which ties together the topics of the course. \n",
    "\n",
    "As such, in the lab assignments/final project, unless otherwise specified, you may, if you choose, use external functions from image processing/ML libraries like opencv and sklearn as long as there is sufficient explanation in the lab report. For example, you do not need to implement your own edge detector, etc.\n",
    "\n",
    "**! Before handling back the notebook !** rerun the notebook from scratch `Kernel` > `Restart & Run All`\n",
    "\n",
    "\n",
    "[iapr]: https://github.com/LTS5/iapr"
   ]
  },
  {
   "cell_type": "markdown",
   "metadata": {},
   "source": [
    "## Rank classification\n",
    "### Import data"
   ]
  },
  {
   "cell_type": "code",
   "execution_count": 1,
   "metadata": {},
   "outputs": [],
   "source": [
    "import pickle\n",
    "import numpy as np\n",
    "import os\n",
    "\n",
    "save_folder = \"train_set/\"\n",
    "\n",
    "ranks_images = np.load(save_folder+'ranks_im.npy')\n",
    "with open(save_folder+\"ranks_label.txt\", \"rb\") as fp:   # Unpickling\n",
    "    ranks_label_op = pickle.load(fp)"
   ]
  },
  {
   "cell_type": "code",
   "execution_count": 2,
   "metadata": {},
   "outputs": [],
   "source": [
    "import gzip\n",
    "import numpy as np\n",
    "import matplotlib.pyplot as plt\n",
    "\n",
    "def extract_data(filename, image_shape, image_number):\n",
    "    with gzip.open(filename) as bytestream:\n",
    "        bytestream.read(16)\n",
    "        buf = bytestream.read(np.prod(image_shape) * image_number)\n",
    "        data = np.frombuffer(buf, dtype=np.uint8).astype(np.float32)\n",
    "        data = data.reshape(image_number, image_shape[0], image_shape[1])\n",
    "    return data\n",
    "\n",
    "\n",
    "def extract_labels(filename, image_number):\n",
    "    with gzip.open(filename) as bytestream:\n",
    "        bytestream.read(8)\n",
    "        buf = bytestream.read(1 * image_number)\n",
    "        labels = np.frombuffer(buf, dtype=np.uint8).astype(np.int64)\n",
    "    return labels"
   ]
  },
  {
   "cell_type": "code",
   "execution_count": 3,
   "metadata": {},
   "outputs": [],
   "source": [
    "image_shape = (28, 28)\n",
    "train_set_size = 60000\n",
    "test_set_size = 10000\n",
    "\n",
    "data_MNIST_folder = os.path.join(os.pardir, 'project/train_set')\n",
    "\n",
    "train_images_path = os.path.join(data_MNIST_folder, 'train-images-idx3-ubyte.gz')\n",
    "train_labels_path = os.path.join(data_MNIST_folder, 'train-labels-idx1-ubyte.gz')\n",
    "test_images_path = os.path.join(data_MNIST_folder, 't10k-images-idx3-ubyte.gz')\n",
    "test_labels_path = os.path.join(data_MNIST_folder, 't10k-labels-idx1-ubyte.gz')\n",
    "\n",
    "train_images = extract_data(train_images_path, image_shape, train_set_size)\n",
    "test_images = extract_data(test_images_path, image_shape, test_set_size)\n",
    "train_labels = extract_labels(train_labels_path, train_set_size)\n",
    "test_labels = extract_labels(test_labels_path, test_set_size)"
   ]
  },
  {
   "cell_type": "code",
   "execution_count": 4,
   "metadata": {},
   "outputs": [],
   "source": [
    "train_images_flattened = train_images.reshape(train_images.shape[0], -1) # Reshape to a 784 - dimensional image\n",
    "test_images_flattened = test_images.reshape(test_images.shape[0], -1) # Reshape to a 784 - dimensional image"
   ]
  },
  {
   "cell_type": "markdown",
   "metadata": {},
   "source": [
    "### Balance classes\n",
    "\n",
    "The classes are unbalanced, we have about 6000 samples for each digit but dozens only for J,Q and K. We also need to map the labels J, Q and K to int, i.e 10, 11, 12 respectively."
   ]
  },
  {
   "cell_type": "code",
   "execution_count": 5,
   "metadata": {},
   "outputs": [],
   "source": [
    "map_jqk = {'J': 10, 'Q': 11, 'K': 12}\n",
    "\n",
    "for i in range(len(ranks_label_op)):\n",
    "    ranks_label_op[i] = map_jqk[ranks_label_op[i]]\n",
    "        \n",
    "# Convert labels to numpy array\n",
    "ranks_label_np = np.asarray(ranks_label_op).astype(np.int64)"
   ]
  },
  {
   "cell_type": "markdown",
   "metadata": {},
   "source": [
    "#### Generate samples for J"
   ]
  },
  {
   "cell_type": "code",
   "execution_count": 6,
   "metadata": {},
   "outputs": [],
   "source": [
    "j_mask = (ranks_label_np == 10)\n",
    "j_images = ranks_images[j_mask]"
   ]
  },
  {
   "cell_type": "code",
   "execution_count": 7,
   "metadata": {},
   "outputs": [
    {
     "data": {
      "image/png": "[encoded data removed]",
      "text/plain": [
       "<Figure size 432x432 with 2 Axes>"
      ]
     },
     "metadata": {
      "needs_background": "light"
     },
     "output_type": "display_data"
    }
   ],
   "source": [
    "from skimage import transform as tf\n",
    "\n",
    "# Try some transformation\n",
    "tform = tf.SimilarityTransform(scale=0.95, rotation= -np.deg2rad(3))\n",
    "\n",
    "fig, ax = plt.subplots(1, 2, figsize = (6, 6))\n",
    "\n",
    "ax[0].imshow(j_images[3,:].reshape(image_shape), cmap='gray')\n",
    "ax[0].axis('off')\n",
    "\n",
    "ax[1].imshow(tf.warp(j_images[3,:].reshape(image_shape), tform), cmap='gray')\n",
    "ax[1].axis('off')\n",
    "\n",
    "plt.show()"
   ]
  },
  {
   "cell_type": "markdown",
   "metadata": {},
   "source": [
    "We will generate around 7000 J samples by applying tranformations to the 21 images of J we have. We need around 6000 for training and 1000 for testing to match the class distribution in MNIST."
   ]
  },
  {
   "cell_type": "code",
   "execution_count": 8,
   "metadata": {},
   "outputs": [],
   "source": [
    "from random import triangular, uniform\n",
    "\n",
    "def gen_samples(images, image_label, scale_low=0.9, scale_high=1.1,\n",
    "                rot=np.deg2rad(3), num_samples=334):\n",
    "\n",
    "    gen = []\n",
    "\n",
    "    for num in range(images.shape[0]):\n",
    "\n",
    "        im = images[num, :]\n",
    "\n",
    "        gen.append(im)\n",
    "\n",
    "        # Generate num_samples samples for each image\n",
    "        for i in range(num_samples):\n",
    "           \n",
    "            tform = tf.SimilarityTransform(scale=uniform(scale_low, scale_high), rotation=uniform(-rot, rot))\n",
    "\n",
    "            gen.append(tf.warp(im.reshape(image_shape), tform).flatten())\n",
    "\n",
    "    # Combine images + labels in one array\n",
    "    gen = np.asarray(gen)\n",
    "    gen_array = np.empty((gen.shape[0], gen.shape[1]+1))\n",
    "    gen_array[:,:-1] = gen\n",
    "    gen_array[:, -1] = np.ones((gen.shape[0],)) * image_label\n",
    "\n",
    "    return gen_array"
   ]
  },
  {
   "cell_type": "code",
   "execution_count": 9,
   "metadata": {},
   "outputs": [],
   "source": [
    "j_gen = gen_samples(j_images, 10)"
   ]
  },
  {
   "cell_type": "code",
   "execution_count": 10,
   "metadata": {},
   "outputs": [
    {
     "data": {
      "text/plain": [
       "(7035, 785)"
      ]
     },
     "execution_count": 10,
     "metadata": {},
     "output_type": "execute_result"
    }
   ],
   "source": [
    "j_gen.shape"
   ]
  },
  {
   "cell_type": "code",
   "execution_count": 11,
   "metadata": {},
   "outputs": [
    {
     "data": {
      "image/png": "[encoded data removed]",
      "text/plain": [
       "<Figure size 216x216 with 1 Axes>"
      ]
     },
     "metadata": {
      "needs_background": "light"
     },
     "output_type": "display_data"
    }
   ],
   "source": [
    "# Look at one image\n",
    "fig, ax = plt.subplots(1, 1, figsize = (3, 3))\n",
    "\n",
    "ax.imshow(j_gen[3630,:-1].reshape(image_shape), cmap='gray')\n",
    "ax.axis('off')\n",
    "\n",
    "plt.show()"
   ]
  },
  {
   "cell_type": "markdown",
   "metadata": {},
   "source": [
    "#### Generate samples for Q"
   ]
  },
  {
   "cell_type": "code",
   "execution_count": 12,
   "metadata": {},
   "outputs": [],
   "source": [
    "q_mask = (ranks_label_np == 11)\n",
    "q_images = ranks_images[q_mask]"
   ]
  },
  {
   "cell_type": "code",
   "execution_count": 13,
   "metadata": {},
   "outputs": [
    {
     "data": {
      "text/plain": [
       "(22, 784)"
      ]
     },
     "execution_count": 13,
     "metadata": {},
     "output_type": "execute_result"
    }
   ],
   "source": [
    "q_images.shape"
   ]
  },
  {
   "cell_type": "code",
   "execution_count": 14,
   "metadata": {},
   "outputs": [],
   "source": [
    "q_gen = gen_samples(q_images, 11)"
   ]
  },
  {
   "cell_type": "code",
   "execution_count": 15,
   "metadata": {},
   "outputs": [
    {
     "data": {
      "image/png": "[encoded data removed]",
      "text/plain": [
       "<Figure size 216x216 with 1 Axes>"
      ]
     },
     "metadata": {
      "needs_background": "light"
     },
     "output_type": "display_data"
    }
   ],
   "source": [
    "# Look at one image\n",
    "fig, ax = plt.subplots(1, 1, figsize = (3, 3))\n",
    "\n",
    "ax.imshow(q_gen[6000,:-1].reshape(image_shape), cmap='gray')\n",
    "ax.axis('off')\n",
    "\n",
    "plt.show()"
   ]
  },
  {
   "cell_type": "markdown",
   "metadata": {},
   "source": [
    "#### Generate samples for K"
   ]
  },
  {
   "cell_type": "code",
   "execution_count": 16,
   "metadata": {},
   "outputs": [],
   "source": [
    "k_mask = (ranks_label_np == 12)\n",
    "k_images = ranks_images[k_mask]"
   ]
  },
  {
   "cell_type": "code",
   "execution_count": 17,
   "metadata": {},
   "outputs": [
    {
     "data": {
      "text/plain": [
       "(26, 784)"
      ]
     },
     "execution_count": 17,
     "metadata": {},
     "output_type": "execute_result"
    }
   ],
   "source": [
    "k_images.shape"
   ]
  },
  {
   "cell_type": "code",
   "execution_count": 18,
   "metadata": {},
   "outputs": [],
   "source": [
    "k_gen = gen_samples(k_images, 12, scale_low=0.97, scale_high=1.03, rot=np.deg2rad(2))"
   ]
  },
  {
   "cell_type": "code",
   "execution_count": 19,
   "metadata": {},
   "outputs": [
    {
     "data": {
      "image/png": "[encoded data removed]",
      "text/plain": [
       "<Figure size 216x216 with 1 Axes>"
      ]
     },
     "metadata": {
      "needs_background": "light"
     },
     "output_type": "display_data"
    }
   ],
   "source": [
    "# Look at one image\n",
    "fig, ax = plt.subplots(1, 1, figsize = (3, 3))\n",
    "\n",
    "ax.imshow(k_gen[2679,:-1].reshape(image_shape), cmap='gray')\n",
    "ax.axis('off')\n",
    "\n",
    "plt.show()"
   ]
  },
  {
   "cell_type": "markdown",
   "metadata": {},
   "source": [
    "#### Merge generated data"
   ]
  },
  {
   "cell_type": "code",
   "execution_count": 20,
   "metadata": {},
   "outputs": [],
   "source": [
    "merged_gen = np.append(j_gen, q_gen, axis=0)\n",
    "merged_gen = np.append(merged_gen, k_gen, axis=0)\n",
    "np.random.shuffle(merged_gen)"
   ]
  },
  {
   "cell_type": "code",
   "execution_count": 21,
   "metadata": {},
   "outputs": [
    {
     "data": {
      "text/plain": [
       "(23115, 785)"
      ]
     },
     "execution_count": 21,
     "metadata": {},
     "output_type": "execute_result"
    }
   ],
   "source": [
    "merged_gen.shape"
   ]
  },
  {
   "cell_type": "markdown",
   "metadata": {},
   "source": [
    "We will also the merge the generated data to MNIST data. First we append the labels to the images in MNIST."
   ]
  },
  {
   "cell_type": "code",
   "execution_count": 22,
   "metadata": {},
   "outputs": [
    {
     "data": {
      "text/plain": [
       "(60000, 784)"
      ]
     },
     "execution_count": 22,
     "metadata": {},
     "output_type": "execute_result"
    }
   ],
   "source": [
    "train_images_flattened.shape"
   ]
  },
  {
   "cell_type": "code",
   "execution_count": 23,
   "metadata": {},
   "outputs": [],
   "source": [
    "train_images_labels = np.concatenate((train_images_flattened, np.expand_dims(train_labels, axis=1)), axis=1)\n",
    "test_images_labels = np.concatenate((test_images_flattened, np.expand_dims(test_labels, axis=1)), axis=1)"
   ]
  },
  {
   "cell_type": "code",
   "execution_count": 24,
   "metadata": {},
   "outputs": [
    {
     "data": {
      "text/plain": [
       "(60000, 785)"
      ]
     },
     "execution_count": 24,
     "metadata": {},
     "output_type": "execute_result"
    }
   ],
   "source": [
    "train_images_labels.shape"
   ]
  },
  {
   "cell_type": "markdown",
   "metadata": {},
   "source": [
    "Now we merge it to the generated data. We add 3000 generated samples (approx 1000 for each class) to the test data and the rest to the train data."
   ]
  },
  {
   "cell_type": "code",
   "execution_count": 25,
   "metadata": {},
   "outputs": [],
   "source": [
    "# Test data\n",
    "test_merged = np.append(merged_gen[:3000], test_images_labels, axis=0)\n",
    "np.random.shuffle(test_merged)\n",
    "\n",
    "# Train data\n",
    "train_merged = np.append(merged_gen[3000:], train_images_labels, axis=0)\n",
    "np.random.shuffle(train_merged)"
   ]
  },
  {
   "cell_type": "markdown",
   "metadata": {},
   "source": [
    "We save the train and test data for later use."
   ]
  },
  {
   "cell_type": "code",
   "execution_count": 26,
   "metadata": {},
   "outputs": [],
   "source": [
    "np.save(save_folder+'test_ranks.npy', test_merged)\n",
    "np.save(save_folder+'train_ranks.npy', train_merged)"
   ]
  },
  {
   "cell_type": "markdown",
   "metadata": {},
   "source": [
    "### Classification"
   ]
  },
  {
   "cell_type": "markdown",
   "metadata": {},
   "source": [
    "We need to split the images and the labels again."
   ]
  },
  {
   "cell_type": "code",
   "execution_count": 27,
   "metadata": {},
   "outputs": [],
   "source": [
    "train_im = train_merged[:,:-1]\n",
    "train_labels = train_merged[:,-1].astype(np.int64)\n",
    "\n",
    "test_im = test_merged[:,:-1]\n",
    "test_labels = test_merged[:,-1].astype(np.int64)"
   ]
  },
  {
   "cell_type": "markdown",
   "metadata": {},
   "source": [
    "We train a simple MLP to perform classification"
   ]
  },
  {
   "cell_type": "code",
   "execution_count": 28,
   "metadata": {},
   "outputs": [
    {
     "data": {
      "text/plain": [
       "0.9606923076923077"
      ]
     },
     "execution_count": 28,
     "metadata": {},
     "output_type": "execute_result"
    }
   ],
   "source": [
    "from sklearn.neural_network import MLPClassifier\n",
    "from sklearn.preprocessing import StandardScaler\n",
    "\n",
    "scaler = StandardScaler() # to scale the values of the pixels\n",
    "scaler.fit(train_im)  \n",
    "\n",
    "train_images_scaled = scaler.transform(train_im)  # Scale train_images\n",
    "test_images_scaled = scaler.transform(test_im) # Scale test_images\n",
    "\n",
    "hidden_units = 100\n",
    "\n",
    "clf = MLPClassifier(hidden_layer_sizes = (hidden_units,), random_state=42).fit(train_images_scaled, train_labels)\n",
    "\n",
    "clf.score(test_images_scaled, test_labels)"
   ]
  },
  {
   "cell_type": "markdown",
   "metadata": {},
   "source": [
    "---\n",
    "### Suite classification\n",
    "#### Import data"
   ]
  },
  {
   "cell_type": "code",
   "execution_count": 29,
   "metadata": {},
   "outputs": [],
   "source": [
    "# Open suite files\n",
    "suites_images = np.load(save_folder+'suites_im.npy')\n",
    "with open(save_folder+\"suites_label.txt\", \"rb\") as fp2:   # Unpickling\n",
    "    suites_label_op = pickle.load(fp2)"
   ]
  },
  {
   "cell_type": "code",
   "execution_count": 30,
   "metadata": {},
   "outputs": [],
   "source": [
    "map_hcds = {'H': 0, 'C': 1, 'D': 2, 'S': 3}\n",
    "\n",
    "for i in range(len(suites_label_op)):\n",
    "    suites_label_op[i] = map_hcds[suites_label_op[i]]\n",
    "        \n",
    "# Convert labels to numpy array\n",
    "suites_label_op = np.asarray(suites_label_op).astype(np.int64)"
   ]
  },
  {
   "cell_type": "markdown",
   "metadata": {},
   "source": [
    "#### Generate samples\n",
    "\n",
    "##### For H"
   ]
  },
  {
   "cell_type": "code",
   "execution_count": 31,
   "metadata": {},
   "outputs": [],
   "source": [
    "h_mask = (suites_label_op == 0)\n",
    "h_images = suites_images[h_mask]"
   ]
  },
  {
   "cell_type": "code",
   "execution_count": 32,
   "metadata": {},
   "outputs": [
    {
     "data": {
      "image/png": "[encoded data removed]",
      "text/plain": [
       "<Figure size 432x432 with 2 Axes>"
      ]
     },
     "metadata": {
      "needs_background": "light"
     },
     "output_type": "display_data"
    }
   ],
   "source": [
    "from skimage.transform import resize\n",
    "\n",
    "suite_shape = (300, 300)\n",
    "suite_reshape = (28,28)\n",
    "\n",
    "# Try some transformation\n",
    "tform = tf.SimilarityTransform(scale=0.9, rotation= -np.deg2rad(4))\n",
    "\n",
    "fig, ax = plt.subplots(1, 2, figsize = (6, 6))\n",
    "\n",
    "# Add padding\n",
    "padding = ((40, 40), (40, 40))\n",
    "test_im = np.pad(h_images[60,:].reshape(suite_shape), padding, 'constant', constant_values=0)\n",
    "\n",
    "ax[0].imshow(resize(test_im, suite_reshape), cmap='gray')\n",
    "ax[0].axis('off')\n",
    "\n",
    "ax[1].imshow(tf.warp(resize(test_im, suite_reshape), tform), cmap='gray')\n",
    "ax[1].axis('off')\n",
    "\n",
    "plt.show()"
   ]
  },
  {
   "cell_type": "code",
   "execution_count": 33,
   "metadata": {},
   "outputs": [
    {
     "data": {
      "text/plain": [
       "(167, 90000)"
      ]
     },
     "execution_count": 33,
     "metadata": {},
     "output_type": "execute_result"
    }
   ],
   "source": [
    "h_images.shape"
   ]
  },
  {
   "cell_type": "markdown",
   "metadata": {},
   "source": [
    "As for the ranks, we will generate around 7000 samples, 6000 for training and 1000 for testing"
   ]
  },
  {
   "cell_type": "code",
   "execution_count": 34,
   "metadata": {},
   "outputs": [],
   "source": [
    "def gen_samples_suites(images, image_label, scale_low=0.9, scale_high=1.1,\n",
    "                rot=np.deg2rad(4), num_samples=334):\n",
    "\n",
    "    gen = []\n",
    "\n",
    "    for num in range(images.shape[0]):\n",
    "\n",
    "        # Add padding\n",
    "        padding = ((40, 40), (40, 40))\n",
    "        im = np.pad(images[num, :].reshape(suite_shape), padding, 'constant', constant_values=0)\n",
    "        \n",
    "        # Resize \n",
    "        im = resize(im, suite_reshape)\n",
    "        \n",
    "        gen.append(im.flatten())\n",
    "\n",
    "        # Generate num_samples samples for each image\n",
    "        for i in range(num_samples):\n",
    "           \n",
    "            tform = tf.SimilarityTransform(scale=uniform(scale_low, scale_high), rotation=uniform(-rot, rot))\n",
    "\n",
    "            gen.append(tf.warp(im, tform).flatten())\n",
    "\n",
    "    # Combine images + labels in one array\n",
    "    gen = np.asarray(gen)\n",
    "    gen_array = np.empty((gen.shape[0], gen.shape[1]+1))\n",
    "    gen_array[:,:-1] = gen\n",
    "    gen_array[:, -1] = np.ones((gen.shape[0],)) * image_label\n",
    "\n",
    "    return gen_array"
   ]
  },
  {
   "cell_type": "code",
   "execution_count": 35,
   "metadata": {},
   "outputs": [],
   "source": [
    "h_gen = gen_samples_suites(h_images, 0, num_samples=42)"
   ]
  },
  {
   "cell_type": "code",
   "execution_count": 36,
   "metadata": {},
   "outputs": [
    {
     "data": {
      "text/plain": [
       "(7181, 785)"
      ]
     },
     "execution_count": 36,
     "metadata": {},
     "output_type": "execute_result"
    }
   ],
   "source": [
    "h_gen.shape"
   ]
  },
  {
   "cell_type": "markdown",
   "metadata": {},
   "source": [
    "##### For C"
   ]
  },
  {
   "cell_type": "code",
   "execution_count": 37,
   "metadata": {},
   "outputs": [],
   "source": [
    "c_mask = (suites_label_op == 1)\n",
    "c_images = suites_images[c_mask]"
   ]
  },
  {
   "cell_type": "code",
   "execution_count": 38,
   "metadata": {},
   "outputs": [
    {
     "data": {
      "image/png": "[encoded data removed]",
      "text/plain": [
       "<Figure size 432x432 with 2 Axes>"
      ]
     },
     "metadata": {
      "needs_background": "light"
     },
     "output_type": "display_data"
    }
   ],
   "source": [
    "# Try some transformation\n",
    "tform = tf.SimilarityTransform(scale=0.9, rotation= -np.deg2rad(4))\n",
    "\n",
    "fig, ax = plt.subplots(1, 2, figsize = (6, 6))\n",
    "\n",
    "# Add padding\n",
    "test_im = np.pad(c_images[10,:].reshape(suite_shape), padding, 'constant', constant_values=0)\n",
    "\n",
    "ax[0].imshow(resize(test_im, suite_reshape), cmap='gray')\n",
    "ax[0].axis('off')\n",
    "\n",
    "ax[1].imshow(tf.warp(resize(test_im, suite_reshape), tform), cmap='gray')\n",
    "ax[1].axis('off')\n",
    "\n",
    "plt.show()"
   ]
  },
  {
   "cell_type": "code",
   "execution_count": 39,
   "metadata": {},
   "outputs": [
    {
     "data": {
      "text/plain": [
       "(140, 90000)"
      ]
     },
     "execution_count": 39,
     "metadata": {},
     "output_type": "execute_result"
    }
   ],
   "source": [
    "c_images.shape"
   ]
  },
  {
   "cell_type": "code",
   "execution_count": 40,
   "metadata": {},
   "outputs": [],
   "source": [
    "c_gen = gen_samples_suites(c_images, 1, num_samples=50)"
   ]
  },
  {
   "cell_type": "code",
   "execution_count": 41,
   "metadata": {},
   "outputs": [
    {
     "data": {
      "text/plain": [
       "(7140, 785)"
      ]
     },
     "execution_count": 41,
     "metadata": {},
     "output_type": "execute_result"
    }
   ],
   "source": [
    "c_gen.shape"
   ]
  },
  {
   "cell_type": "markdown",
   "metadata": {},
   "source": [
    "##### For D"
   ]
  },
  {
   "cell_type": "code",
   "execution_count": 42,
   "metadata": {},
   "outputs": [],
   "source": [
    "d_mask = (suites_label_op == 2)\n",
    "d_images = suites_images[d_mask]"
   ]
  },
  {
   "cell_type": "code",
   "execution_count": 43,
   "metadata": {},
   "outputs": [
    {
     "data": {
      "image/png": "[encoded data removed]",
      "text/plain": [
       "<Figure size 432x432 with 2 Axes>"
      ]
     },
     "metadata": {
      "needs_background": "light"
     },
     "output_type": "display_data"
    }
   ],
   "source": [
    "# Try some transformation\n",
    "tform = tf.SimilarityTransform(scale=0.9, rotation= np.deg2rad(4))\n",
    "\n",
    "fig, ax = plt.subplots(1, 2, figsize = (6, 6))\n",
    "\n",
    "test_im = np.pad(d_images[7,:].reshape(suite_shape), padding, 'constant', constant_values=0)\n",
    "\n",
    "ax[0].imshow(resize(test_im, suite_reshape), cmap='gray')\n",
    "ax[0].axis('off')\n",
    "\n",
    "ax[1].imshow(tf.warp(resize(test_im, suite_reshape), tform), cmap='gray')\n",
    "ax[1].axis('off')\n",
    "\n",
    "plt.show()"
   ]
  },
  {
   "cell_type": "code",
   "execution_count": 44,
   "metadata": {},
   "outputs": [
    {
     "data": {
      "text/plain": [
       "(146, 90000)"
      ]
     },
     "execution_count": 44,
     "metadata": {},
     "output_type": "execute_result"
    }
   ],
   "source": [
    "d_images.shape"
   ]
  },
  {
   "cell_type": "code",
   "execution_count": 45,
   "metadata": {},
   "outputs": [],
   "source": [
    "d_gen = gen_samples_suites(d_images, 2, num_samples=48)"
   ]
  },
  {
   "cell_type": "code",
   "execution_count": 46,
   "metadata": {},
   "outputs": [
    {
     "data": {
      "text/plain": [
       "(7154, 785)"
      ]
     },
     "execution_count": 46,
     "metadata": {},
     "output_type": "execute_result"
    }
   ],
   "source": [
    "d_gen.shape"
   ]
  },
  {
   "cell_type": "markdown",
   "metadata": {},
   "source": [
    "##### For S"
   ]
  },
  {
   "cell_type": "code",
   "execution_count": 48,
   "metadata": {},
   "outputs": [],
   "source": [
    "s_mask = (suites_label_op == 3)\n",
    "s_images = suites_images[s_mask]"
   ]
  },
  {
   "cell_type": "code",
   "execution_count": 56,
   "metadata": {},
   "outputs": [
    {
     "data": {
      "image/png": "[encoded data removed]",
      "text/plain": [
       "<Figure size 432x432 with 2 Axes>"
      ]
     },
     "metadata": {
      "needs_background": "light"
     },
     "output_type": "display_data"
    }
   ],
   "source": [
    "# Try some transformation\n",
    "tform = tf.SimilarityTransform(scale=0.9, rotation= -np.deg2rad(4))\n",
    "\n",
    "fig, ax = plt.subplots(1, 2, figsize = (6, 6))\n",
    "\n",
    "test_im = np.pad(s_images[7,:].reshape(suite_shape), padding, 'constant', constant_values=0)\n",
    "\n",
    "ax[0].imshow(resize(test_im, suite_reshape), cmap='gray')\n",
    "ax[0].axis('off')\n",
    "\n",
    "ax[1].imshow(tf.warp(resize(test_im, suite_reshape), tform), cmap='gray')\n",
    "ax[1].axis('off')\n",
    "\n",
    "plt.show()"
   ]
  },
  {
   "cell_type": "code",
   "execution_count": 58,
   "metadata": {},
   "outputs": [
    {
     "data": {
      "text/plain": [
       "(158, 90000)"
      ]
     },
     "execution_count": 58,
     "metadata": {},
     "output_type": "execute_result"
    }
   ],
   "source": [
    "s_images.shape"
   ]
  },
  {
   "cell_type": "code",
   "execution_count": 59,
   "metadata": {},
   "outputs": [],
   "source": [
    "s_gen = gen_samples_suites(s_images, 2, num_samples=45)"
   ]
  },
  {
   "cell_type": "code",
   "execution_count": 60,
   "metadata": {},
   "outputs": [
    {
     "data": {
      "text/plain": [
       "(7268, 785)"
      ]
     },
     "execution_count": 60,
     "metadata": {},
     "output_type": "execute_result"
    }
   ],
   "source": [
    "s_gen.shape"
   ]
  },
  {
   "cell_type": "markdown",
   "metadata": {},
   "source": [
    "#### Merge generated data"
   ]
  },
  {
   "cell_type": "code",
   "execution_count": 61,
   "metadata": {},
   "outputs": [],
   "source": [
    "merged_gen = np.append(h_gen, c_gen, axis=0)\n",
    "merged_gen = np.append(merged_gen, d_gen, axis=0)\n",
    "merged_gen = np.append(merged_gen, s_gen, axis=0)\n",
    "np.random.shuffle(merged_gen)"
   ]
  },
  {
   "cell_type": "code",
   "execution_count": 62,
   "metadata": {},
   "outputs": [
    {
     "data": {
      "text/plain": [
       "(28743, 785)"
      ]
     },
     "execution_count": 62,
     "metadata": {},
     "output_type": "execute_result"
    }
   ],
   "source": [
    "merged_gen.shape"
   ]
  },
  {
   "cell_type": "markdown",
   "metadata": {},
   "source": [
    "As for the ranks we take about 4000 samples for the test set (1000 for each class) and the rest for the training set."
   ]
  },
  {
   "cell_type": "code",
   "execution_count": 63,
   "metadata": {},
   "outputs": [],
   "source": [
    "test_merged = merged_gen[:4000]\n",
    "train_merged = merged_gen[4000:]"
   ]
  },
  {
   "cell_type": "code",
   "execution_count": 64,
   "metadata": {},
   "outputs": [],
   "source": [
    "np.save(save_folder+'test_suites.npy', test_merged)\n",
    "np.save(save_folder+'train_suites.npy', train_merged)"
   ]
  },
  {
   "cell_type": "markdown",
   "metadata": {},
   "source": [
    "### Classification"
   ]
  },
  {
   "cell_type": "markdown",
   "metadata": {},
   "source": [
    "We need to split the images and the labels."
   ]
  },
  {
   "cell_type": "code",
   "execution_count": 65,
   "metadata": {},
   "outputs": [],
   "source": [
    "train_im = train_merged[:,:-1]\n",
    "train_labels = train_merged[:,-1].astype(np.int64)\n",
    "\n",
    "test_im = test_merged[:,:-1]\n",
    "test_labels = test_merged[:,-1].astype(np.int64)"
   ]
  },
  {
   "cell_type": "markdown",
   "metadata": {},
   "source": [
    "We train a simple MLP to perform classification"
   ]
  },
  {
   "cell_type": "code",
   "execution_count": 66,
   "metadata": {},
   "outputs": [
    {
     "data": {
      "text/plain": [
       "0.99875"
      ]
     },
     "execution_count": 66,
     "metadata": {},
     "output_type": "execute_result"
    }
   ],
   "source": [
    "from sklearn.neural_network import MLPClassifier\n",
    "from sklearn.preprocessing import StandardScaler\n",
    "\n",
    "scaler = StandardScaler() # to scale the values of the pixels\n",
    "scaler.fit(train_im)  \n",
    "\n",
    "train_images_scaled = scaler.transform(train_im)  # Scale train_images\n",
    "test_images_scaled = scaler.transform(test_im) # Scale test_images\n",
    "\n",
    "hidden_units = 100\n",
    "\n",
    "clf = MLPClassifier(hidden_layer_sizes = (hidden_units,), random_state=42).fit(train_images_scaled, train_labels)\n",
    "\n",
    "clf.score(test_images_scaled, test_labels)"
   ]
  }
 ],
 "metadata": {
  "kernelspec": {
   "display_name": "Python 3",
   "language": "python",
   "name": "python3"
  },
  "language_info": {
   "codemirror_mode": {
    "name": "ipython",
    "version": 3
   },
   "file_extension": ".py",
   "mimetype": "text/x-python",
   "name": "python",
   "nbconvert_exporter": "python",
   "pygments_lexer": "ipython3",
   "version": "3.6.13"
  }
 },
 "nbformat": 4,
 "nbformat_minor": 4
}
